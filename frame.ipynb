{
 "cells": [
  {
   "cell_type": "markdown",
   "metadata": {},
   "source": [
    "\n<br>\n",
    "https://github.com/FrederikSchorr/sign-language<br>\n",
    "Extract frames from a video (or many videos). <br>\n",
    "Plus some frame=image manipulation utilities.<br>\n",
    ""
   ]
  },
  {
   "cell_type": "code",
   "execution_count": null,
   "metadata": {},
   "outputs": [],
   "source": [
    "import os\n",
    "import glob\n",
    "import warnings\n",
    "import random\n",
    "from subprocess import check_output"
   ]
  },
  {
   "cell_type": "code",
   "execution_count": null,
   "metadata": {},
   "outputs": [],
   "source": [
    "import numpy as np\n",
    "import pandas as pd"
   ]
  },
  {
   "cell_type": "code",
   "execution_count": null,
   "metadata": {},
   "outputs": [],
   "source": [
    "import cv2"
   ]
  },
  {
   "cell_type": "code",
   "execution_count": null,
   "metadata": {},
   "outputs": [],
   "source": [
    "def image_resize_aspectratio(arImage: np.array, nMinDim:int = 256) -> np.array:\n",
    "    nHigth, nWidth, _ = arImage.shape\n",
    "    arImage = cv2.resize(arImage, (224,224))\n",
    "    return arImage"
   ]
  },
  {
   "cell_type": "code",
   "execution_count": null,
   "metadata": {},
   "outputs": [],
   "source": [
    "  "
   ]
  },
  {
   "cell_type": "code",
   "execution_count": null,
   "metadata": {},
   "outputs": [],
   "source": [
    "def images_resize_aspectratio(arImages: np.array, nMinDim:int = 256) -> np.array:\n",
    "    nImages, _, _, _ = arImages.shape\n",
    "    liImages = []\n",
    "    for i in range(nImages):\n",
    "        arImage = image_resize_aspectratio(arImages[i, ...])\n",
    "        liImages.append(arImage)\n",
    "    return np.array(liImages)\n",
    "    "
   ]
  },
  {
   "cell_type": "code",
   "execution_count": null,
   "metadata": {},
   "outputs": [],
   "source": [
    "def video2frames(sVideoPath:str, nResizeMinDim:int) -> np.array:\n",
    "    \"\"\" Read video file with OpenCV and return array of frames\n",
    "    The frame rate depends on the video (and cannot be set)\n",
    "    if nMinDim != None: Frames are resized preserving aspect ratio \n",
    "        so that the smallest dimension is eg 256 pixels, with bilinear interpolation\n",
    "    \"\"\"\n",
    "    \n",
    "    # Create a VideoCapture object and read from input file\n",
    "    oVideo = cv2.VideoCapture(sVideoPath)\n",
    "    if (oVideo.isOpened() == False): raise ValueError(\"Error opening video file\")\n",
    "    liFrames = []\n",
    "\n",
    "    # Read until video is completed\n",
    "    while(True):\n",
    "        \n",
    "        (bGrabbed, arFrame) = oVideo.read()\n",
    "        if bGrabbed == False: break\n",
    "        if nResizeMinDim != None:\n",
    "            # resize image\n",
    "            arFrameResized = image_resize_aspectratio(arFrame, nResizeMinDim)"
   ]
  },
  {
   "cell_type": "code",
   "execution_count": null,
   "metadata": {},
   "outputs": [],
   "source": [
    "\t\t# Save the resulting frame to list\n",
    "        liFrames.append(arFrameResized)\n",
    "   \n",
    "    return np.array(liFrames)"
   ]
  },
  {
   "cell_type": "code",
   "execution_count": null,
   "metadata": {},
   "outputs": [],
   "source": [
    "def frames2files(arFrames:np.array, sTargetDir:str):\n",
    "    \"\"\" Write array of frames to jpg files\n",
    "    Input: arFrames = (number of frames, height, width, depth)\n",
    "    \"\"\"\n",
    "    os.makedirs(sTargetDir, exist_ok=True)\n",
    "    for nFrame in range(arFrames.shape[0]):\n",
    "        cv2.imwrite(sTargetDir + \"/frame%04d.jpg\" % nFrame, arFrames[nFrame, :, :, :])\n",
    "    return"
   ]
  },
  {
   "cell_type": "code",
   "execution_count": null,
   "metadata": {},
   "outputs": [],
   "source": [
    "def files2frames(sPath:str) -> np.array:\n",
    "    # important to sort image files upfront\n",
    "    liFiles = sorted(glob.glob(sPath+ \"/*.jpg\"))\n",
    "    if len(liFiles) == 0: raise ValueError(\"No frames found in \" + sPath)\n",
    "    liFrames = []\n",
    "    # loop through frames\n",
    "    for sFramePath in liFiles:\n",
    "        arFrame = cv2.imread(sFramePath)\n",
    "        liFrames.append(arFrame)\n",
    "    return np.array(liFrames)\n",
    "    \n",
    "    \n",
    "def frames_downsample(arFrames:np.array, nFramesTarget:int) -> np.array:\n",
    "    \"\"\" Adjust number of frames (eg 123) to nFramesTarget (eg 79)\n",
    "    works also if originally less frames then nFramesTarget\n",
    "    \"\"\"\n",
    "    nSamples, _, _, _ = arFrames.shape\n",
    "    if nSamples == nFramesTarget: return arFrames\n",
    "\n",
    "    # down/upsample the list of frames\n",
    "    fraction = nSamples / nFramesTarget\n",
    "    index = [int(fraction * i) for i in range(nFramesTarget)]\n",
    "    liTarget = [arFrames[i,:,:,:] for i in index]\n",
    "    #print(\"Change number of frames from %d to %d\" % (nSamples, nFramesTarget))\n",
    "    #print(index)\n",
    "    return np.array(liTarget)\n",
    "    \n",
    "    \n",
    "def image_crop(arFrame, nHeightTarget, nWidthTarget) -> np.array:\n",
    "    \"\"\" crop 1 frame to specified size, choose centered image\n",
    "    \"\"\"\n",
    "    nHeight, nWidth, _ = arFrame.shape\n",
    "    if (nHeight < nHeightTarget) or (nWidth < nWidthTarget):\n",
    "        raise ValueError(\"Image height/width too small to crop to target size\")\n",
    "\n",
    "    # calc left upper corner\n",
    "    sX = int(nWidth/2 - nWidthTarget/2)\n",
    "    sY = int(nHeight/2 - nHeightTarget/2)\n",
    "    arFrame = arFrame[sY:sY+nHeightTarget, sX:sX+nWidthTarget, :]\n",
    "    return arFrame"
   ]
  },
  {
   "cell_type": "code",
   "execution_count": null,
   "metadata": {},
   "outputs": [],
   "source": [
    "def images_crop(arFrames:np.array, nHeightTarget, nWidthTarget) -> np.array:\n",
    "    \"\"\" crop each frame in array to specified size, choose centered image\n",
    "    \"\"\"\n",
    "    nSamples, nHeight, nWidth, nDepth = arFrames.shape"
   ]
  },
  {
   "cell_type": "markdown",
   "metadata": {},
   "source": [
    "   if (nHeight < nHeightTarget) or (nWidth < nWidthTarget):"
   ]
  },
  {
   "cell_type": "code",
   "execution_count": null,
   "metadata": {},
   "outputs": [],
   "source": [
    " #       raise ValueError(\"Image height/width too small to crop to target size\")\n",
    "\n",
    "    # calc left upper corner\n",
    "    sX = int(nWidth/2 - nWidthTarget/2)\n",
    "    sY = int(nHeight/2 - nHeightTarget/2)\n",
    "    arFrames = arFrames[:, sY:sY+nHeightTarget, sX:sX+nWidthTarget, :]\n",
    "    return arFrames"
   ]
  },
  {
   "cell_type": "code",
   "execution_count": null,
   "metadata": {},
   "outputs": [],
   "source": [
    "def images_rescale(arFrames:np.array) -> np.array(float):\n",
    "    \"\"\" Rescale array of images (rgb 0-255) to [-1.0, 1.0]\n",
    "    \"\"\"\n",
    "    ar_fFrames = arFrames / 127.5\n",
    "    ar_fFrames -= 1.\n",
    "    return ar_fFrames"
   ]
  },
  {
   "cell_type": "code",
   "execution_count": null,
   "metadata": {},
   "outputs": [],
   "source": [
    "def images_normalize(arFrames:np.array, nFrames:int, nHeight:int, nWidth:int, bRescale:bool = True) -> np.array(float):\n",
    "    \"\"\" Several image normalizations/preprocessing: \n",
    "        - downsample number of frames\n",
    "        - crop to centered image\n",
    "        - rescale rgb 0-255 value to [-1.0, 1.0] - only if bRescale == True\n",
    "    Returns array of floats\n",
    "    \"\"\"\n",
    "\n",
    "    # normalize the number of frames (assuming typically downsampling)\n",
    "    arFrames = frames_downsample(arFrames, nFrames)\n",
    "\n",
    "    # crop to centered image\n",
    "    arFrames = images_crop(arFrames, nHeight, nWidth)\n",
    "    if bRescale:\n",
    "        # normalize to [-1.0, 1.0]\n",
    "        arFrames = images_rescale(arFrames)\n",
    "    else:\n",
    "        if np.max(np.abs(arFrames)) > 1.0: warnings.warn(\"Images not normalized\")\n",
    "    return arFrames"
   ]
  },
  {
   "cell_type": "code",
   "execution_count": null,
   "metadata": {},
   "outputs": [],
   "source": [
    "def frames_show(arFrames:np.array, nWaitMilliSec:int = 100):\n",
    "    nFrames, nHeight, nWidth, nDepth = arFrames.shape\n",
    "    \n",
    "    for i in range(nFrames):\n",
    "        cv2.imshow(\"Frame\", arFrames[i, :, :, :])\n",
    "        cv2.waitKey(nWaitMilliSec)\n",
    "    return"
   ]
  },
  {
   "cell_type": "code",
   "execution_count": null,
   "metadata": {},
   "outputs": [],
   "source": [
    "def video_length(sVideoPath:str) -> float:\n",
    "    return 8"
   ]
  },
  {
   "cell_type": "code",
   "execution_count": null,
   "metadata": {},
   "outputs": [],
   "source": [
    "def videosDir2framesDir(sVideoDir:str, sFrameDir:str, nFramesNorm:int = None, \n",
    "    nResizeMinDim:int = None, tuCropShape:tuple = None, nClasses:int = None):\n",
    "    \"\"\" Extract frames from videos \n",
    "    \n",
    "    Input video structure:\n",
    "    ... sVideoDir / train / class001 / videoname.avi\n",
    "    Output:\n",
    "    ... sFrameDir / train / class001 / videoname / frames.jpg\n",
    "    \"\"\"\n",
    "\n",
    "    # do not (partially) overwrite existing frame directory\n",
    "    #if os.path.exists(sFrameDir): \n",
    "    #    warnings.warn(\"Frame folder \" + sFrameDir + \" already exists, frame extraction stopped\")\n",
    "    #    return \n",
    "\n",
    "    # get videos. Assume sVideoDir / train / class / video.mp4\n",
    "    dfVideos = pd.DataFrame(sorted(glob.glob(sVideoDir + \"/*/*/*.*\")), columns=[\"sVideoPath\"])\n",
    "   \n",
    "    print(\"Located {} videos in {}, extracting to {} ...\"\\\n",
    "        .format(len(dfVideos), sVideoDir, sFrameDir))\n",
    "    if len(dfVideos) == 0: raise ValueError(\"No videos found\")\n",
    "\n",
    "    # eventually restrict to first nLabels\n",
    "    if nClasses != None:\n",
    "        dfVideos.loc[:,\"sLabel\"] = dfVideos.sVideoPath.apply(lambda s: s.split(\"/\")[-2])\n",
    "        liClasses = sorted(dfVideos.sLabel.unique())[:nClasses]\n",
    "        dfVideos = dfVideos[dfVideos[\"sLabel\"].isin(liClasses)]\n",
    "        print(\"Using only {} videos from first {} classes\".format(len(dfVideos), nClasses))\n",
    "    nCounter = 0\n",
    "    # loop through all videos and extract frames\n",
    "    for sVideoPath in dfVideos.sVideoPath:\n",
    "\n",
    "        # assemble target diretory (assumed directories see above)\n",
    "        li_sVideoPath = sVideoPath.split(\"/\")\n",
    "        if len(li_sVideoPath) < 2: raise ValueError(\"Video path should have min 4 components: {}\".format(str(li_sVideoPath)))\n",
    "        sVideoName = li_sVideoPath[-1].split(\".\")[0]\n",
    "        sTargetDir = sFrameDir + \"/\" + li_sVideoPath[-3] + \"/\" + li_sVideoPath[-2] + \"/\" + sVideoName\n",
    "        \n",
    "        # check if frames already extracted\n",
    "        if nFramesNorm != None and os.path.exists(sTargetDir):\n",
    "            nFrames = len(glob.glob(sTargetDir + \"/*.*\"))\n",
    "            if nFrames == nFramesNorm: \n",
    "                print(\"Video %5d already extracted to %s\" % (nCounter, sTargetDir))\n",
    "                nCounter += 1\n",
    "                continue\n",
    "            else: \n",
    "                print(\"Video %5d: Directory with %d instead of %d frames detected\" % (nCounter, nFrames, nFramesNorm))\n",
    "        \n",
    "        # create target directory\n",
    "        os.makedirs(sTargetDir, exist_ok = True)\n",
    "\n",
    "        # slice videos into frames with OpenCV\n",
    "        arFrames = video2frames(sVideoPath, nResizeMinDim)\n",
    "\n",
    "        # length and fps\n",
    "        fVideoSec = video_length(sVideoPath)\n",
    "        nFrames = len(arFrames)\n",
    "        fFPS = nFrames / fVideoSec   \n",
    "\n",
    "        # downsample\n",
    "        if nFramesNorm != None: \n",
    "            arFrames = frames_downsample(arFrames, nFramesNorm)\n",
    "\n",
    "        # crop images\n",
    "        if tuCropShape != None:\n",
    "            arFrames = images_crop(arFrames, *tuCropShape)\n",
    "        \n",
    "        # write frames to .jpg files\n",
    "        frames2files(arFrames, sTargetDir)         \n",
    "        print(\"Video %5d | %5.1f sec | %d frames | %4.1f fps | saved %s in %s\" % (nCounter, fVideoSec, nFrames, fFPS, str(arFrames.shape), sTargetDir))\n",
    "        nCounter += 1      \n",
    "    return"
   ]
  },
  {
   "cell_type": "code",
   "execution_count": null,
   "metadata": {},
   "outputs": [],
   "source": [
    "def unittest(sVideoDir, nSamples = 100):\n",
    "    print(\"\\nAnalyze video durations and fps from %s ...\" % (sVideoDir))\n",
    "    print(os.getcwd())\n",
    "    liVideos = glob.glob(sVideoDir + \"/*/*.mp4\") + glob.glob(sVideoDir + \"/*/*.avi\")\n",
    "    \n",
    "    if len(liVideos) == 0: raise ValueError(\"No videos detected\")\n",
    "    fVideoSec_sum, nFrames_sum = 0, 0\n",
    "    for i in range(nSamples):\n",
    "        sVideoPath = random.choice(liVideos)\n",
    "        #print(\"Video %s\" % sVideoPath)\n",
    "\n",
    "        # read video\n",
    "        arFrames = video2frames(sVideoPath, 256)\n",
    "        nFrames = len(arFrames)\n",
    "\n",
    "        # determine length of video in sec and deduce frame rate\n",
    "        fVideoSec = video_length(sVideoPath)\n",
    "        fFPS = nFrames / fVideoSec\n",
    "        fVideoSec_sum += fVideoSec\n",
    "        nFrames_sum += nFrames\n",
    "        print(\"%2d: Shape %s, duration %.1f sec, fps %.1f\" % (i, str(arFrames.shape), fVideoSec, fFPS))\n",
    "    nCount = i+1\n",
    "    print(\"%d samples: Average video duration %.1f sec, fps %.1f\" % (nSamples, fVideoSec_sum / nCount, nFrames_sum / fVideoSec_sum))\n",
    "    return"
   ]
  }
 ],
 "metadata": {
  "kernelspec": {
   "display_name": "Python 3",
   "language": "python",
   "name": "python3"
  },
  "language_info": {
   "codemirror_mode": {
    "name": "ipython",
    "version": 3
   },
   "file_extension": ".py",
   "mimetype": "text/x-python",
   "name": "python",
   "nbconvert_exporter": "python",
   "pygments_lexer": "ipython3",
   "version": "3.6.4"
  }
 },
 "nbformat": 4,
 "nbformat_minor": 2
}
