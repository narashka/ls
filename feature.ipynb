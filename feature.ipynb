{
 "cells": [
  {
   "cell_type": "markdown",
   "metadata": {},
   "source": [
    "\n<br>\n",
    "https://github.com/FrederikSchorr/sign-language<br>\n",
    "In some video classification NN architectures it may be necessary to calculate features <br>\n",
    "from the (video) frames, that are afterwards used for NN training.<br>\n",
    "Eg in the MobileNet-LSTM architecture, the video frames are first fed into the MobileNet<br>\n",
    "and the resulting 1024 **features** saved to disc.<br>\n",
    ""
   ]
  },
  {
   "cell_type": "code",
   "execution_count": null,
   "metadata": {},
   "outputs": [],
   "source": [
    "import os\n",
    "import glob\n",
    "import time\n",
    "import sys\n",
    "import warnings"
   ]
  },
  {
   "cell_type": "code",
   "execution_count": null,
   "metadata": {},
   "outputs": [],
   "source": [
    "import numpy as np\n",
    "import pandas as pd"
   ]
  },
  {
   "cell_type": "code",
   "execution_count": null,
   "metadata": {},
   "outputs": [],
   "source": [
    "import keras"
   ]
  },
  {
   "cell_type": "code",
   "execution_count": null,
   "metadata": {},
   "outputs": [],
   "source": [
    "from datagenerator import FramesGenerator"
   ]
  },
  {
   "cell_type": "code",
   "execution_count": null,
   "metadata": {},
   "outputs": [],
   "source": [
    "def features_2D_predict_generator(sFrameBaseDir:str, sFeatureBaseDir:str, keModel:keras.Model, \n",
    "    nFramesNorm:int = 40):\n",
    "    \"\"\"\n",
    "    Used by the MobileNet-LSTM NN architecture.\n",
    "    The (video) frames (2-dimensional) in sFrameBaseDir are fed into keModel (eg MobileNet without top layers)\n",
    "    and the resulting features are save to sFeatureBaseDir.\n",
    "    \"\"\"\n",
    "\n",
    "    # do not (partially) overwrite existing feature directory\n",
    "    #if os.path.exists(sFeatureBaseDir): \n",
    "    #    warnings.warn(\"\\nFeature folder \" + sFeatureBaseDir + \" alredy exists, calculation stopped\") \n",
    "    #    return\n",
    "\n",
    "    # prepare frame generator - without shuffling!\n",
    "    _, h, w, c = keModel.input_shape\n",
    "    genFrames = FramesGenerator(sFrameBaseDir, 1, nFramesNorm, h, w, c, \n",
    "        liClassesFull = None, bShuffle=False)\n",
    "    print(\"Predict features with %s ... \" % keModel.name)\n",
    "    nCount = 0\n",
    "    # Predict - loop through all samples\n",
    "    for _, seVideo in genFrames.dfVideos.iterrows():\n",
    "        \n",
    "        # ... sFrameBaseDir / class / videoname=frame-directory\n",
    "        sVideoName = seVideo.sFrameDir.split(\"/\")[-1]\n",
    "        sLabel = seVideo.sLabel\n",
    "        sFeaturePath = sFeatureBaseDir + \"/\" + sLabel + \"/\" + sVideoName + \".npy\"\n",
    "\n",
    "        # check if already predicted\n",
    "        if os.path.exists(sFeaturePath):\n",
    "            print(\"Video %5d: features already extracted to %s\" % (nCount, sFeaturePath))\n",
    "            nCount += 1\n",
    "            continue\n",
    "\n",
    "        # get normalized frames and predict feature\n",
    "        arX, _ = genFrames.data_generation(seVideo)\n",
    "        arFeature = keModel.predict(arX, verbose=0)\n",
    "\n",
    "        # save to file\n",
    "        os.makedirs(sFeatureBaseDir + \"/\" + sLabel, exist_ok = True)\n",
    "        np.save(open(sFeaturePath,\"w\"), arFeature)\n",
    "        print(\"Video %5d: features %s saved to %s\" % (nCount, str(arFeature.shape), sFeaturePath))\n",
    "        nCount += 1\n",
    "    print(\"%d features saved to files in %s\" % (nCount+1, sFeatureBaseDir))\n",
    "    return\n",
    "    "
   ]
  },
  {
   "cell_type": "code",
   "execution_count": null,
   "metadata": {},
   "outputs": [],
   "source": [
    "def features_3D_predict_generator(sFrameBaseDir:str, sFeatureBaseDir:str, \n",
    "    keModel:keras.Model, nBatchSize:int = 16):\n",
    "    \"\"\"\n",
    "    Used by I3D-top-only model.\n",
    "    The videos (frames) are fed into keModel (=I3D without top layers) and\n",
    "    resulting features are saved to disc. \n",
    "    (Later these features are used to train a small model containing \n",
    "    only the adjusted I3D top layers.)\n",
    "    \"\"\"\n",
    "\n",
    "    # do not (partially) overwrite existing feature directory\n",
    "    #if os.path.exists(sFeatureBaseDir): \n",
    "    #    warnings.warn(\"\\nFeature folder \" + sFeatureBaseDir + \" alredy exists, calculation stopped\") \n",
    "    #    return\n",
    "\n",
    "    # prepare frame generator - without shuffling!\n",
    "    _, nFramesModel, h, w, c = keModel.input_shape\n",
    "    genFrames = FramesGenerator(sFrameBaseDir, nBatchSize, nFramesModel, h, w, c, \n",
    "        liClassesFull = None, bShuffle=False)\n",
    "\n",
    "    # Predict\n",
    "    print(\"Predict features with %s ... \" % keModel.name)\n",
    "    nCount = 0\n",
    "    # loop through all samples\n",
    "    for _, seVideo in genFrames.dfVideos.iterrows():\n",
    "\n",
    "        # ... sFrameBaseDir / class / videoname=frame-directory\n",
    "        sVideoName = seVideo.sFrameDir.split(\"/\")[-1]\n",
    "        sLabel = seVideo.sLabel\n",
    "        sFeaturePath = sFeatureBaseDir + \"/\" + sLabel + \"/\" + sVideoName + \".npy\"\n",
    "\n",
    "        # check if already predicted\n",
    "        if os.path.exists(sFeaturePath):\n",
    "            print(\"Video %5d: features already extracted to %s\" % (nCount, sFeaturePath))\n",
    "            nCount += 1\n",
    "            continue\n",
    "\n",
    "        # get normalized frames\n",
    "        arFrames, _ = genFrames.data_generation(seVideo)\n",
    "\n",
    "        # predict single sample\n",
    "        arFeature = keModel.predict(np.expand_dims(arFrames, axis=0))[0]\n",
    "\n",
    "        # save to file\n",
    "        os.makedirs(sFeatureBaseDir + \"/\" + sLabel, exist_ok = True)\n",
    "        np.save(sFeaturePath, arFeature)\n",
    "        print(\"Video %5d: features %s saved to %s\" % (nCount, str(arFeature.shape), sFeaturePath))\n",
    "        nCount += 1\n",
    "    print(\"%d features saved to files in %s\" % (nCount+1, sFeatureBaseDir))\n",
    "    \n",
    "    return"
   ]
  }
 ],
 "metadata": {
  "kernelspec": {
   "display_name": "Python 3",
   "language": "python",
   "name": "python3"
  },
  "language_info": {
   "codemirror_mode": {
    "name": "ipython",
    "version": 3
   },
   "file_extension": ".py",
   "mimetype": "text/x-python",
   "name": "python",
   "nbconvert_exporter": "python",
   "pygments_lexer": "ipython3",
   "version": "3.6.4"
  }
 },
 "nbformat": 4,
 "nbformat_minor": 2
}
